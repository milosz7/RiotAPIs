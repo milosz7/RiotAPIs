{
 "cells": [
  {
   "cell_type": "code",
   "id": "initial_id",
   "metadata": {
    "collapsed": true,
    "ExecuteTime": {
     "end_time": "2024-05-07T19:40:08.393957Z",
     "start_time": "2024-05-07T19:40:08.391510Z"
    }
   },
   "source": [
    "# Jeremi Torój - 23/04/2024\n",
    "import requests"
   ],
   "outputs": [],
   "execution_count": 14
  },
  {
   "metadata": {
    "ExecuteTime": {
     "end_time": "2024-05-07T19:35:16.041914Z",
     "start_time": "2024-05-07T19:35:15.827023Z"
    }
   },
   "cell_type": "code",
   "source": [
    "api_key = \"YOUR_API_KEY\"\n",
    "# takes the summoner name and their \"#\" tag\n",
    "url_name = \"https://europe.api.riotgames.com/riot/account/v1/accounts/by-riot-id/I%20Hidan%20I/EUNE?api_key=\" + api_key\n",
    "response_name = requests.get(url_name)\n",
    "response_name"
   ],
   "id": "464b58e259aaec0f",
   "outputs": [
    {
     "data": {
      "text/plain": [
       "<Response [200]>"
      ]
     },
     "execution_count": 3,
     "metadata": {},
     "output_type": "execute_result"
    }
   ],
   "execution_count": 3
  },
  {
   "metadata": {
    "ExecuteTime": {
     "end_time": "2024-05-07T19:35:17.902599Z",
     "start_time": "2024-05-07T19:35:17.899747Z"
    }
   },
   "cell_type": "code",
   "source": [
    "player_info = response_name.json()\n",
    "player_info\n",
    "# puuid most useful for match history and profile identification"
   ],
   "id": "1952969bf259e4c9",
   "outputs": [
    {
     "data": {
      "text/plain": [
       "{'puuid': 's6HqWNDpR_WNuJyiq7wzBHbjtjXyGPkhm0nvXl1ZSegzeaU1fahKYo-RhCNq5DOygUzKxcf8Zjyrgw',\n",
       " 'gameName': 'I Hidan I',\n",
       " 'tagLine': 'EUNE'}"
      ]
     },
     "execution_count": 4,
     "metadata": {},
     "output_type": "execute_result"
    }
   ],
   "execution_count": 4
  },
  {
   "metadata": {
    "ExecuteTime": {
     "end_time": "2024-05-07T19:36:30.134660Z",
     "start_time": "2024-05-07T19:36:29.846929Z"
    }
   },
   "cell_type": "code",
   "source": [
    "# takes the puuid and returns the summoner info\n",
    "puuid_of_player = player_info['puuid']\n",
    "url_info = ('https://eun1.api.riotgames.com/lol/summoner/v4/summoners/by-puuid/'+ puuid_of_player +'?api_key=') + api_key\n",
    "\n",
    "response_info = requests.get(url_info)\n",
    "response_info"
   ],
   "id": "70f3b4fd48427caf",
   "outputs": [
    {
     "data": {
      "text/plain": [
       "<Response [200]>"
      ]
     },
     "execution_count": 5,
     "metadata": {},
     "output_type": "execute_result"
    }
   ],
   "execution_count": 5
  },
  {
   "metadata": {
    "ExecuteTime": {
     "end_time": "2024-05-07T19:36:39.446171Z",
     "start_time": "2024-05-07T19:36:39.442800Z"
    }
   },
   "cell_type": "code",
   "source": [
    "summoner_info = response_info.json()\n",
    "summoner_info"
   ],
   "id": "ab2f4b7e3ad35dad",
   "outputs": [
    {
     "data": {
      "text/plain": [
       "{'id': 'rxnNIHoQS6OfqJ82ZDPEDuw0KecpawzaaedFfsf1J2DIyOg',\n",
       " 'accountId': 'LdBwZQCVv72ruPU-_tgGtjzBYxpAz6ll4yHhR4Oyhos44g',\n",
       " 'puuid': 's6HqWNDpR_WNuJyiq7wzBHbjtjXyGPkhm0nvXl1ZSegzeaU1fahKYo-RhCNq5DOygUzKxcf8Zjyrgw',\n",
       " 'profileIconId': 548,\n",
       " 'revisionDate': 1714084271000,\n",
       " 'summonerLevel': 292}"
      ]
     },
     "execution_count": 6,
     "metadata": {},
     "output_type": "execute_result"
    }
   ],
   "execution_count": 6
  },
  {
   "metadata": {
    "ExecuteTime": {
     "end_time": "2024-05-07T19:37:22.390960Z",
     "start_time": "2024-05-07T19:37:22.183258Z"
    }
   },
   "cell_type": "code",
   "source": [
    "# from summoner info we can extract their history, matchIds...\n",
    "summoner_history = 'https://europe.api.riotgames.com/lol/match/v5/matches/by-puuid/'+ puuid_of_player +'/ids?start=0&count=20&api_key=' + api_key\n",
    "\n",
    "response_history = requests.get(summoner_history)\n",
    "response_history"
   ],
   "id": "f2fa5489dadc57bd",
   "outputs": [
    {
     "data": {
      "text/plain": [
       "<Response [200]>"
      ]
     },
     "execution_count": 7,
     "metadata": {},
     "output_type": "execute_result"
    }
   ],
   "execution_count": 7
  },
  {
   "metadata": {
    "ExecuteTime": {
     "end_time": "2024-05-07T19:37:27.461165Z",
     "start_time": "2024-05-07T19:37:27.457595Z"
    }
   },
   "cell_type": "code",
   "source": [
    "# match history ids\n",
    "match_history_ids = response_history.json()\n",
    "match_history_ids"
   ],
   "id": "318d155690dea9eb",
   "outputs": [
    {
     "data": {
      "text/plain": [
       "['EUN1_3587696734',\n",
       " 'EUN1_3587682926',\n",
       " 'EUN1_3586754246',\n",
       " 'EUN1_3586743299',\n",
       " 'EUN1_3586733117',\n",
       " 'EUN1_3586269509',\n",
       " 'EUN1_3586268313',\n",
       " 'EUN1_3586258441',\n",
       " 'EUN1_3584627540',\n",
       " 'EUN1_3578646296',\n",
       " 'EUN1_3572915140',\n",
       " 'EUN1_3572909224',\n",
       " 'EUN1_3572892235',\n",
       " 'EUN1_3572863927',\n",
       " 'EUN1_3571776110',\n",
       " 'EUN1_3571742763',\n",
       " 'EUN1_3571714481',\n",
       " 'EUN1_3571693409',\n",
       " 'EUN1_3571652438',\n",
       " 'EUN1_3569913613']"
      ]
     },
     "execution_count": 8,
     "metadata": {},
     "output_type": "execute_result"
    }
   ],
   "execution_count": 8
  },
  {
   "metadata": {
    "ExecuteTime": {
     "end_time": "2024-05-07T19:38:02.771252Z",
     "start_time": "2024-05-07T19:38:02.537679Z"
    }
   },
   "cell_type": "code",
   "source": [
    "# one entry of match history\n",
    "match_history = 'https://europe.api.riotgames.com/lol/match/v5/matches/' + match_history_ids[0] +'?api_key=' + api_key\n",
    "response_match = requests.get(match_history)\n",
    "response_match"
   ],
   "id": "47a939024932183c",
   "outputs": [
    {
     "data": {
      "text/plain": [
       "<Response [200]>"
      ]
     },
     "execution_count": 11,
     "metadata": {},
     "output_type": "execute_result"
    }
   ],
   "execution_count": 11
  },
  {
   "metadata": {
    "ExecuteTime": {
     "end_time": "2024-05-07T19:56:56.053442Z",
     "start_time": "2024-05-07T19:56:56.049022Z"
    }
   },
   "cell_type": "code",
   "source": [
    "# a lot of info about the match\n",
    "#\n",
    "# puuid of other players in a match ( more data ) \n",
    "# first objectives, number of pings, items and time bought, everything...\n",
    "# win% and frequency to track\n",
    "#\n",
    "\n",
    "list_of_players= []\n",
    "# puuid of all players in a match\n",
    "match_info = response_match.json()\n",
    "for player_puuid in match_info[\"metadata\"][\"participants\"]:\n",
    "    print(\"-----------------\")\n",
    "    list_of_players.append(player_puuid)\n",
    "    print(player_puuid)\n",
    "    print(\"-----------------\")"
   ],
   "id": "d31c85e2314b26c8",
   "outputs": [
    {
     "name": "stdout",
     "output_type": "stream",
     "text": [
      "-----------------\n",
      "rREINHloC8plFt9nMmIsW0aRI7SW-Zjq-7_xHhksnCqz-Hvj65vDGPs0dMZo2QMaiHTPKyeVtclM6Q\n",
      "-----------------\n",
      "-----------------\n",
      "PAU19d4fTro3bwJqXees0s6OUjroK1DwTKWth6Zr7rnS9oaXCfVG2_Ocv2qdD0syKRyvBQwlSHm3OQ\n",
      "-----------------\n",
      "-----------------\n",
      "OCV1NrrGN9nNyAY--YlA0ncMepuRVw_kBkGIC_qvlj2IVxYubqOt8DYISCdhI6Hw9HV7aJeMzAfMDQ\n",
      "-----------------\n",
      "-----------------\n",
      "Miyjztv84TMmcKbnIGe1ga9JCWqDi4EMgki5Q6rpFBeLHRDXct9z3KoVb715aTb4mXEkL1FzZFw82g\n",
      "-----------------\n",
      "-----------------\n",
      "B_yCX5Ifm-8fyd-v_e_RITDZVnYRfAi21VohtQoO9RAWvGJmYwZJiZDX1Ked4jdErfttnkKtGLHd2Q\n",
      "-----------------\n",
      "-----------------\n",
      "s6HqWNDpR_WNuJyiq7wzBHbjtjXyGPkhm0nvXl1ZSegzeaU1fahKYo-RhCNq5DOygUzKxcf8Zjyrgw\n",
      "-----------------\n",
      "-----------------\n",
      "xRCgII39QygZbHrPRdujdQzjrGRr4FaetjSGKf6udGrHaDRxCMR_k6-ulhdOCuewzINK37XfOFQBPw\n",
      "-----------------\n",
      "-----------------\n",
      "tf7xZkjdUErVuPysoDD8WUsEGbycYWJjwsjJm2tXBdS-WvUqmC8stvvhDBtPC5nlCNmkgd2Gr7BJ3Q\n",
      "-----------------\n",
      "-----------------\n",
      "Xdi2X89cTGq3v2_m7_MMlJquNRi8emLHuloLN4vbCd1IAdLUEragjm0z-aMr-zWExTU2azqnaZpw9A\n",
      "-----------------\n",
      "-----------------\n",
      "0lDkHCj8faiMlmHCVJyq2e4aBH92W7jt25b-MFOD83cgql4mK92RbcgxiCz6ROfcfkWdnRDzUKNfQg\n",
      "-----------------\n"
     ]
    }
   ],
   "execution_count": 24
  },
  {
   "metadata": {
    "ExecuteTime": {
     "end_time": "2024-05-07T19:59:55.112485Z",
     "start_time": "2024-05-07T19:59:55.109716Z"
    }
   },
   "cell_type": "code",
   "source": [
    "for i in match_info[\"metadata\"][\"participants\"]:\n",
    "    print(i)"
   ],
   "id": "88ac0e735c3b79d",
   "outputs": [
    {
     "name": "stdout",
     "output_type": "stream",
     "text": [
      "rREINHloC8plFt9nMmIsW0aRI7SW-Zjq-7_xHhksnCqz-Hvj65vDGPs0dMZo2QMaiHTPKyeVtclM6Q\n",
      "PAU19d4fTro3bwJqXees0s6OUjroK1DwTKWth6Zr7rnS9oaXCfVG2_Ocv2qdD0syKRyvBQwlSHm3OQ\n",
      "OCV1NrrGN9nNyAY--YlA0ncMepuRVw_kBkGIC_qvlj2IVxYubqOt8DYISCdhI6Hw9HV7aJeMzAfMDQ\n",
      "Miyjztv84TMmcKbnIGe1ga9JCWqDi4EMgki5Q6rpFBeLHRDXct9z3KoVb715aTb4mXEkL1FzZFw82g\n",
      "B_yCX5Ifm-8fyd-v_e_RITDZVnYRfAi21VohtQoO9RAWvGJmYwZJiZDX1Ked4jdErfttnkKtGLHd2Q\n",
      "s6HqWNDpR_WNuJyiq7wzBHbjtjXyGPkhm0nvXl1ZSegzeaU1fahKYo-RhCNq5DOygUzKxcf8Zjyrgw\n",
      "xRCgII39QygZbHrPRdujdQzjrGRr4FaetjSGKf6udGrHaDRxCMR_k6-ulhdOCuewzINK37XfOFQBPw\n",
      "tf7xZkjdUErVuPysoDD8WUsEGbycYWJjwsjJm2tXBdS-WvUqmC8stvvhDBtPC5nlCNmkgd2Gr7BJ3Q\n",
      "Xdi2X89cTGq3v2_m7_MMlJquNRi8emLHuloLN4vbCd1IAdLUEragjm0z-aMr-zWExTU2azqnaZpw9A\n",
      "0lDkHCj8faiMlmHCVJyq2e4aBH92W7jt25b-MFOD83cgql4mK92RbcgxiCz6ROfcfkWdnRDzUKNfQg\n"
     ]
    }
   ],
   "execution_count": 30
  },
  {
   "metadata": {
    "ExecuteTime": {
     "end_time": "2024-05-07T20:15:11.414049Z",
     "start_time": "2024-05-07T20:15:11.410240Z"
    }
   },
   "cell_type": "code",
   "source": [
    "for participant_info in match_info[\"info\"][\"participants\"]:\n",
    "    print(\"-----------------\")\n",
    "    print(\"Total time spent dead: \",participant_info[\"totalTimeSpentDead\"])\n",
    "    print(\"Vision score: \",participant_info[\"visionScore\"])\n",
    "    print(\"Win: \",participant_info[\"win\"])\n",
    "    print(\"Gold per minute: \",participant_info[\"challenges\"][\"goldPerMinute\"])\n",
    "    print(\"-----------------\")"
   ],
   "id": "7bb456f51836f01a",
   "outputs": [
    {
     "name": "stdout",
     "output_type": "stream",
     "text": [
      "-----------------\n",
      "Total time spent dead:  163\n",
      "Vision score:  27\n",
      "Win:  True\n",
      "Gold per minute:  368.94619916743403\n",
      "-----------------\n",
      "-----------------\n",
      "Total time spent dead:  219\n",
      "Vision score:  39\n",
      "Win:  True\n",
      "Gold per minute:  544.8532266622503\n",
      "-----------------\n",
      "-----------------\n",
      "Total time spent dead:  189\n",
      "Vision score:  40\n",
      "Win:  True\n",
      "Gold per minute:  400.8539999967719\n",
      "-----------------\n",
      "-----------------\n",
      "Total time spent dead:  290\n",
      "Vision score:  14\n",
      "Win:  True\n",
      "Gold per minute:  473.565060021452\n",
      "-----------------\n",
      "-----------------\n",
      "Total time spent dead:  96\n",
      "Vision score:  63\n",
      "Win:  True\n",
      "Gold per minute:  353.2320913476831\n",
      "-----------------\n",
      "-----------------\n",
      "Total time spent dead:  252\n",
      "Vision score:  24\n",
      "Win:  False\n",
      "Gold per minute:  392.7354505790867\n",
      "-----------------\n",
      "-----------------\n",
      "Total time spent dead:  338\n",
      "Vision score:  19\n",
      "Win:  False\n",
      "Gold per minute:  346.06588788097014\n",
      "-----------------\n",
      "-----------------\n",
      "Total time spent dead:  206\n",
      "Vision score:  16\n",
      "Win:  False\n",
      "Gold per minute:  407.1174114722597\n",
      "-----------------\n",
      "-----------------\n",
      "Total time spent dead:  318\n",
      "Vision score:  22\n",
      "Win:  False\n",
      "Gold per minute:  329.59672772914104\n",
      "-----------------\n",
      "-----------------\n",
      "Total time spent dead:  125\n",
      "Vision score:  69\n",
      "Win:  False\n",
      "Gold per minute:  425.99178311201575\n",
      "-----------------\n"
     ]
    }
   ],
   "execution_count": 48
  },
  {
   "metadata": {
    "ExecuteTime": {
     "end_time": "2024-05-07T20:19:11.600428Z",
     "start_time": "2024-05-07T20:19:11.590599Z"
    }
   },
   "cell_type": "code",
   "source": "",
   "id": "8fb1e8ade7504a46",
   "outputs": [
    {
     "data": {
      "text/plain": [
       "{'allInPings': 1,\n",
       " 'assistMePings': 0,\n",
       " 'assists': 13,\n",
       " 'baronKills': 1,\n",
       " 'basicPings': 0,\n",
       " 'bountyLevel': 0,\n",
       " 'challenges': {'12AssistStreakCount': 0,\n",
       "  'abilityUses': 362,\n",
       "  'acesBefore15Minutes': 0,\n",
       "  'alliedJungleMonsterKills': 49,\n",
       "  'baronTakedowns': 1,\n",
       "  'blastConeOppositeOpponentCount': 0,\n",
       "  'bountyGold': 750,\n",
       "  'buffsStolen': 1,\n",
       "  'completeSupportQuestInTime': 0,\n",
       "  'controlWardsPlaced': 1,\n",
       "  'damagePerMinute': 1543.736924340508,\n",
       "  'damageTakenOnTeamPercentage': 0.3169221546139136,\n",
       "  'dancedWithRiftHerald': 0,\n",
       "  'deathsByEnemyChamps': 7,\n",
       "  'dodgeSkillShotsSmallWindow': 1,\n",
       "  'doubleAces': 0,\n",
       "  'dragonTakedowns': 1,\n",
       "  'earliestBaron': 1508.3743961,\n",
       "  'earliestDragonTakedown': 1555.3585669,\n",
       "  'earlyLaningPhaseGoldExpAdvantage': 0,\n",
       "  'effectiveHealAndShielding': 0,\n",
       "  'elderDragonKillsWithOpposingSoul': 0,\n",
       "  'elderDragonMultikills': 0,\n",
       "  'enemyChampionImmobilizations': 29,\n",
       "  'enemyJungleMonsterKills': 14,\n",
       "  'epicMonsterKillsNearEnemyJungler': 1,\n",
       "  'epicMonsterKillsWithin30SecondsOfSpawn': 1,\n",
       "  'epicMonsterSteals': 0,\n",
       "  'epicMonsterStolenWithoutSmite': 0,\n",
       "  'fastestLegendary': 1630.5243366999998,\n",
       "  'firstTurretKilled': 1,\n",
       "  'firstTurretKilledTime': 899.0406299,\n",
       "  'flawlessAces': 1,\n",
       "  'fullTeamTakedown': 0,\n",
       "  'gameLength': 1906.0661444999998,\n",
       "  'goldPerMinute': 544.8532266622503,\n",
       "  'hadOpenNexus': 0,\n",
       "  'highestChampionDamage': 1,\n",
       "  'immobilizeAndKillWithAlly': 10,\n",
       "  'initialBuffCount': 2,\n",
       "  'initialCrabCount': 1,\n",
       "  'jungleCsBefore10Minutes': 57.6000000834465,\n",
       "  'junglerKillsEarlyJungle': 0,\n",
       "  'junglerTakedownsNearDamagedEpicMonster': 0,\n",
       "  'kTurretsDestroyedBeforePlatesFall': 0,\n",
       "  'kda': 4.285714285714286,\n",
       "  'killAfterHiddenWithAlly': 5,\n",
       "  'killParticipation': 0.6122448979591837,\n",
       "  'killedChampTookFullTeamDamageSurvived': 0,\n",
       "  'killingSprees': 2,\n",
       "  'killsNearEnemyTurret': 1,\n",
       "  'killsOnLanersEarlyJungleAsJungler': 4,\n",
       "  'killsOnRecentlyHealedByAramPack': 0,\n",
       "  'killsUnderOwnTurret': 1,\n",
       "  'killsWithHelpFromEpicMonster': 1,\n",
       "  'knockEnemyIntoTeamAndKill': 0,\n",
       "  'landSkillShotsEarlyGame': 0,\n",
       "  'laneMinionsFirst10Minutes': 3,\n",
       "  'laningPhaseGoldExpAdvantage': 0,\n",
       "  'legendaryCount': 1,\n",
       "  'legendaryItemUsed': [6610, 3074, 3156, 3071],\n",
       "  'lostAnInhibitor': 0,\n",
       "  'maxCsAdvantageOnLaneOpponent': 9.600000023841858,\n",
       "  'maxKillDeficit': 0,\n",
       "  'maxLevelLeadLaneOpponent': 2,\n",
       "  'mejaisFullStackInTime': 0,\n",
       "  'moreEnemyJungleThanOpponent': -46.50000008940697,\n",
       "  'multiKillOneSpell': 0,\n",
       "  'multiTurretRiftHeraldCount': 0,\n",
       "  'multikills': 4,\n",
       "  'multikillsAfterAggressiveFlash': 0,\n",
       "  'outerTurretExecutesBefore10Minutes': 0,\n",
       "  'outnumberedKills': 5,\n",
       "  'outnumberedNexusKill': 0,\n",
       "  'perfectDragonSoulsTaken': 0,\n",
       "  'perfectGame': 0,\n",
       "  'pickKillWithAlly': 18,\n",
       "  'playedChampSelectPosition': 1,\n",
       "  'poroExplosions': 0,\n",
       "  'quickCleanse': 0,\n",
       "  'quickFirstTurret': 0,\n",
       "  'quickSoloKills': 0,\n",
       "  'riftHeraldTakedowns': 0,\n",
       "  'saveAllyFromDeath': 0,\n",
       "  'scuttleCrabKills': 4,\n",
       "  'shortestTimeToAceFromFirstTakedown': 23.938124499999958,\n",
       "  'skillshotsDodged': 46,\n",
       "  'skillshotsHit': 0,\n",
       "  'snowballsHit': 0,\n",
       "  'soloBaronKills': 0,\n",
       "  'soloKills': 3,\n",
       "  'stealthWardsPlaced': 11,\n",
       "  'survivedSingleDigitHpCount': 1,\n",
       "  'survivedThreeImmobilizesInFight': 10,\n",
       "  'takedownOnFirstTurret': 0,\n",
       "  'takedowns': 30,\n",
       "  'takedownsAfterGainingLevelAdvantage': 0,\n",
       "  'takedownsBeforeJungleMinionSpawn': 0,\n",
       "  'takedownsFirstXMinutes': 10,\n",
       "  'takedownsInAlcove': 0,\n",
       "  'takedownsInEnemyFountain': 0,\n",
       "  'teamBaronKills': 1,\n",
       "  'teamDamagePercentage': 0.38040300563290097,\n",
       "  'teamElderDragonKills': 0,\n",
       "  'teamRiftHeraldKills': 0,\n",
       "  'tookLargeDamageSurvived': 0,\n",
       "  'turretPlatesTaken': 0,\n",
       "  'turretTakedowns': 4,\n",
       "  'turretsTakenWithRiftHerald': 0,\n",
       "  'twentyMinionsIn3SecondsCount': 0,\n",
       "  'twoWardsOneSweeperCount': 0,\n",
       "  'unseenRecalls': 0,\n",
       "  'visionScoreAdvantageLaneOpponent': 1.041971206665039,\n",
       "  'visionScorePerMinute': 1.256399994853707,\n",
       "  'wardTakedowns': 2,\n",
       "  'wardTakedownsBefore20M': 1,\n",
       "  'wardsGuarded': 2},\n",
       " 'champExperience': 15426,\n",
       " 'champLevel': 16,\n",
       " 'championId': 62,\n",
       " 'championName': 'MonkeyKing',\n",
       " 'championTransform': 0,\n",
       " 'commandPings': 0,\n",
       " 'consumablesPurchased': 3,\n",
       " 'damageDealtToBuildings': 3960,\n",
       " 'damageDealtToObjectives': 31082,\n",
       " 'damageDealtToTurrets': 3960,\n",
       " 'damageSelfMitigated': 41758,\n",
       " 'dangerPings': 0,\n",
       " 'deaths': 7,\n",
       " 'detectorWardsPlaced': 1,\n",
       " 'doubleKills': 3,\n",
       " 'dragonKills': 1,\n",
       " 'eligibleForProgression': True,\n",
       " 'enemyMissingPings': 0,\n",
       " 'enemyVisionPings': 0,\n",
       " 'firstBloodAssist': False,\n",
       " 'firstBloodKill': True,\n",
       " 'firstTowerAssist': False,\n",
       " 'firstTowerKill': False,\n",
       " 'gameEndedInEarlySurrender': False,\n",
       " 'gameEndedInSurrender': False,\n",
       " 'getBackPings': 6,\n",
       " 'goldEarned': 17308,\n",
       " 'goldSpent': 14825,\n",
       " 'holdPings': 0,\n",
       " 'individualPosition': 'JUNGLE',\n",
       " 'inhibitorKills': 1,\n",
       " 'inhibitorTakedowns': 1,\n",
       " 'inhibitorsLost': 0,\n",
       " 'item0': 3156,\n",
       " 'item1': 3074,\n",
       " 'item2': 3071,\n",
       " 'item3': 6610,\n",
       " 'item4': 3047,\n",
       " 'item5': 3066,\n",
       " 'item6': 3340,\n",
       " 'itemsPurchased': 24,\n",
       " 'killingSprees': 4,\n",
       " 'kills': 17,\n",
       " 'lane': 'JUNGLE',\n",
       " 'largestCriticalStrike': 431,\n",
       " 'largestKillingSpree': 8,\n",
       " 'largestMultiKill': 3,\n",
       " 'longestTimeSpentLiving': 791,\n",
       " 'magicDamageDealt': 20525,\n",
       " 'magicDamageDealtToChampions': 5770,\n",
       " 'magicDamageTaken': 13530,\n",
       " 'missions': {'PlayerScore0': 0,\n",
       "  'PlayerScore1': 0,\n",
       "  'PlayerScore10': 0,\n",
       "  'PlayerScore11': 0,\n",
       "  'PlayerScore2': 0,\n",
       "  'PlayerScore3': 0,\n",
       "  'PlayerScore4': 0,\n",
       "  'PlayerScore5': 0,\n",
       "  'PlayerScore6': 0,\n",
       "  'PlayerScore7': 0,\n",
       "  'PlayerScore8': 0,\n",
       "  'PlayerScore9': 0},\n",
       " 'needVisionPings': 1,\n",
       " 'neutralMinionsKilled': 120,\n",
       " 'nexusKills': 0,\n",
       " 'nexusLost': 0,\n",
       " 'nexusTakedowns': 0,\n",
       " 'objectivesStolen': 0,\n",
       " 'objectivesStolenAssists': 0,\n",
       " 'onMyWayPings': 18,\n",
       " 'participantId': 2,\n",
       " 'pentaKills': 0,\n",
       " 'perks': {'statPerks': {'defense': 5013, 'flex': 5008, 'offense': 5005},\n",
       "  'styles': [{'description': 'primaryStyle',\n",
       "    'selections': [{'perk': 8010, 'var1': 1545, 'var2': 0, 'var3': 0},\n",
       "     {'perk': 9111, 'var1': 2387, 'var2': 600, 'var3': 0},\n",
       "     {'perk': 9105, 'var1': 7, 'var2': 40, 'var3': 0},\n",
       "     {'perk': 8014, 'var1': 1217, 'var2': 0, 'var3': 0}],\n",
       "    'style': 8000},\n",
       "   {'description': 'subStyle',\n",
       "    'selections': [{'perk': 8143, 'var1': 1894, 'var2': 0, 'var3': 0},\n",
       "     {'perk': 8135, 'var1': 450, 'var2': 5, 'var3': 0}],\n",
       "    'style': 8100}]},\n",
       " 'physicalDamageDealt': 146670,\n",
       " 'physicalDamageDealtToChampions': 41508,\n",
       " 'physicalDamageTaken': 33131,\n",
       " 'placement': 0,\n",
       " 'playerAugment1': 0,\n",
       " 'playerAugment2': 0,\n",
       " 'playerAugment3': 0,\n",
       " 'playerAugment4': 0,\n",
       " 'playerSubteamId': 0,\n",
       " 'profileIcon': 576,\n",
       " 'pushPings': 0,\n",
       " 'puuid': 'PAU19d4fTro3bwJqXees0s6OUjroK1DwTKWth6Zr7rnS9oaXCfVG2_Ocv2qdD0syKRyvBQwlSHm3OQ',\n",
       " 'quadraKills': 0,\n",
       " 'riotIdGameName': 'Snake Your Ass',\n",
       " 'riotIdTagline': 'EUNE',\n",
       " 'role': 'NONE',\n",
       " 'sightWardsBoughtInGame': 0,\n",
       " 'spell1Casts': 165,\n",
       " 'spell2Casts': 63,\n",
       " 'spell3Casts': 110,\n",
       " 'spell4Casts': 24,\n",
       " 'subteamPlacement': 0,\n",
       " 'summoner1Casts': 19,\n",
       " 'summoner1Id': 11,\n",
       " 'summoner2Casts': 5,\n",
       " 'summoner2Id': 4,\n",
       " 'summonerId': 'Tj9ceg4o0MxbtKLVZZQVsIiF_A2anRUruwpsinnyTKqvFRk',\n",
       " 'summonerLevel': 383,\n",
       " 'summonerName': 'Snake Your Ass',\n",
       " 'teamEarlySurrendered': False,\n",
       " 'teamId': 100,\n",
       " 'teamPosition': 'JUNGLE',\n",
       " 'timeCCingOthers': 27,\n",
       " 'timePlayed': 1905,\n",
       " 'totalAllyJungleMinionsKilled': 70,\n",
       " 'totalDamageDealt': 234790,\n",
       " 'totalDamageDealtToChampions': 49041,\n",
       " 'totalDamageShieldedOnTeammates': 0,\n",
       " 'totalDamageTaken': 49339,\n",
       " 'totalEnemyJungleMinionsKilled': 15,\n",
       " 'totalHeal': 23621,\n",
       " 'totalHealsOnTeammates': 0,\n",
       " 'totalMinionsKilled': 45,\n",
       " 'totalTimeCCDealt': 202,\n",
       " 'totalTimeSpentDead': 219,\n",
       " 'totalUnitsHealed': 1,\n",
       " 'tripleKills': 1,\n",
       " 'trueDamageDealt': 67593,\n",
       " 'trueDamageDealtToChampions': 1761,\n",
       " 'trueDamageTaken': 2678,\n",
       " 'turretKills': 2,\n",
       " 'turretTakedowns': 4,\n",
       " 'turretsLost': 3,\n",
       " 'unrealKills': 0,\n",
       " 'visionClearedPings': 0,\n",
       " 'visionScore': 39,\n",
       " 'visionWardsBoughtInGame': 1,\n",
       " 'wardsKilled': 2,\n",
       " 'wardsPlaced': 12,\n",
       " 'win': True}"
      ]
     },
     "execution_count": 49,
     "metadata": {},
     "output_type": "execute_result"
    }
   ],
   "execution_count": 49
  },
  {
   "metadata": {},
   "cell_type": "code",
   "outputs": [],
   "execution_count": null,
   "source": "",
   "id": "38a5e617dc33056d"
  }
 ],
 "metadata": {
  "kernelspec": {
   "display_name": "Python 3",
   "language": "python",
   "name": "python3"
  },
  "language_info": {
   "codemirror_mode": {
    "name": "ipython",
    "version": 2
   },
   "file_extension": ".py",
   "mimetype": "text/x-python",
   "name": "python",
   "nbconvert_exporter": "python",
   "pygments_lexer": "ipython2",
   "version": "2.7.6"
  }
 },
 "nbformat": 4,
 "nbformat_minor": 5
}
