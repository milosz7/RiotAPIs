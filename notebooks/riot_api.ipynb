{
 "cells": [
  {
   "cell_type": "code",
   "id": "initial_id",
   "metadata": {
    "collapsed": true,
    "ExecuteTime": {
     "end_time": "2024-05-07T19:40:08.393957Z",
     "start_time": "2024-05-07T19:40:08.391510Z"
    }
   },
   "source": [
    "# Jeremi Torój - 23/04/2024\n",
    "import requests"
   ],
   "outputs": [],
   "execution_count": 14
  },
  {
   "metadata": {
    "ExecuteTime": {
     "end_time": "2024-05-07T19:35:16.041914Z",
     "start_time": "2024-05-07T19:35:15.827023Z"
    }
   },
   "cell_type": "code",
   "source": [
    "api_key = \"YOUR_API_KEY\"\n",
    "# takes the summoner name and their \"#\" tag\n",
    "url_name = \"https://europe.api.riotgames.com/riot/account/v1/accounts/by-riot-id/I%20Hidan%20I/EUNE?api_key=\" + api_key\n",
    "response_name = requests.get(url_name)\n",
    "response_name"
   ],
   "id": "464b58e259aaec0f",
   "outputs": [
    {
     "data": {
      "text/plain": [
       "<Response [200]>"
      ]
     },
     "execution_count": 3,
     "metadata": {},
     "output_type": "execute_result"
    }
   ],
   "execution_count": 3
  },
  {
   "metadata": {
    "ExecuteTime": {
     "end_time": "2024-05-07T19:35:17.902599Z",
     "start_time": "2024-05-07T19:35:17.899747Z"
    }
   },
   "cell_type": "code",
   "source": [
    "player_info = response_name.json()\n",
    "player_info\n",
    "# puuid most useful for match history and profile identification"
   ],
   "id": "1952969bf259e4c9",
   "outputs": [
    {
     "data": {
      "text/plain": [
       "{'puuid': 's6HqWNDpR_WNuJyiq7wzBHbjtjXyGPkhm0nvXl1ZSegzeaU1fahKYo-RhCNq5DOygUzKxcf8Zjyrgw',\n",
       " 'gameName': 'I Hidan I',\n",
       " 'tagLine': 'EUNE'}"
      ]
     },
     "execution_count": 4,
     "metadata": {},
     "output_type": "execute_result"
    }
   ],
   "execution_count": 4
  },
  {
   "metadata": {
    "ExecuteTime": {
     "end_time": "2024-05-07T19:36:30.134660Z",
     "start_time": "2024-05-07T19:36:29.846929Z"
    }
   },
   "cell_type": "code",
   "source": [
    "# takes the puuid and returns the summoner info\n",
    "puuid_of_player = player_info['puuid']\n",
    "url_info = ('https://eun1.api.riotgames.com/lol/summoner/v4/summoners/by-puuid/'+ puuid_of_player +'?api_key=') + api_key\n",
    "\n",
    "response_info = requests.get(url_info)\n",
    "response_info"
   ],
   "id": "70f3b4fd48427caf",
   "outputs": [
    {
     "data": {
      "text/plain": [
       "<Response [200]>"
      ]
     },
     "execution_count": 5,
     "metadata": {},
     "output_type": "execute_result"
    }
   ],
   "execution_count": 5
  },
  {
   "metadata": {
    "ExecuteTime": {
     "end_time": "2024-05-07T19:36:39.446171Z",
     "start_time": "2024-05-07T19:36:39.442800Z"
    }
   },
   "cell_type": "code",
   "source": [
    "summoner_info = response_info.json()\n",
    "summoner_info"
   ],
   "id": "ab2f4b7e3ad35dad",
   "outputs": [
    {
     "data": {
      "text/plain": [
       "{'id': 'rxnNIHoQS6OfqJ82ZDPEDuw0KecpawzaaedFfsf1J2DIyOg',\n",
       " 'accountId': 'LdBwZQCVv72ruPU-_tgGtjzBYxpAz6ll4yHhR4Oyhos44g',\n",
       " 'puuid': 's6HqWNDpR_WNuJyiq7wzBHbjtjXyGPkhm0nvXl1ZSegzeaU1fahKYo-RhCNq5DOygUzKxcf8Zjyrgw',\n",
       " 'profileIconId': 548,\n",
       " 'revisionDate': 1714084271000,\n",
       " 'summonerLevel': 292}"
      ]
     },
     "execution_count": 6,
     "metadata": {},
     "output_type": "execute_result"
    }
   ],
   "execution_count": 6
  },
  {
   "metadata": {
    "ExecuteTime": {
     "end_time": "2024-05-07T19:37:22.390960Z",
     "start_time": "2024-05-07T19:37:22.183258Z"
    }
   },
   "cell_type": "code",
   "source": [
    "# from summoner info we can extract their history, matchIds...\n",
    "summoner_history = 'https://europe.api.riotgames.com/lol/match/v5/matches/by-puuid/'+ puuid_of_player +'/ids?start=0&count=20&api_key=' + api_key\n",
    "\n",
    "response_history = requests.get(summoner_history)\n",
    "response_history"
   ],
   "id": "f2fa5489dadc57bd",
   "outputs": [
    {
     "data": {
      "text/plain": [
       "<Response [200]>"
      ]
     },
     "execution_count": 7,
     "metadata": {},
     "output_type": "execute_result"
    }
   ],
   "execution_count": 7
  },
  {
   "metadata": {
    "ExecuteTime": {
     "end_time": "2024-05-07T19:37:27.461165Z",
     "start_time": "2024-05-07T19:37:27.457595Z"
    }
   },
   "cell_type": "code",
   "source": [
    "# match history ids\n",
    "match_history_ids = response_history.json()\n",
    "match_history_ids"
   ],
   "id": "318d155690dea9eb",
   "outputs": [
    {
     "data": {
      "text/plain": [
       "['EUN1_3587696734',\n",
       " 'EUN1_3587682926',\n",
       " 'EUN1_3586754246',\n",
       " 'EUN1_3586743299',\n",
       " 'EUN1_3586733117',\n",
       " 'EUN1_3586269509',\n",
       " 'EUN1_3586268313',\n",
       " 'EUN1_3586258441',\n",
       " 'EUN1_3584627540',\n",
       " 'EUN1_3578646296',\n",
       " 'EUN1_3572915140',\n",
       " 'EUN1_3572909224',\n",
       " 'EUN1_3572892235',\n",
       " 'EUN1_3572863927',\n",
       " 'EUN1_3571776110',\n",
       " 'EUN1_3571742763',\n",
       " 'EUN1_3571714481',\n",
       " 'EUN1_3571693409',\n",
       " 'EUN1_3571652438',\n",
       " 'EUN1_3569913613']"
      ]
     },
     "execution_count": 8,
     "metadata": {},
     "output_type": "execute_result"
    }
   ],
   "execution_count": 8
  },
  {
   "metadata": {
    "ExecuteTime": {
     "end_time": "2024-05-07T19:38:02.771252Z",
     "start_time": "2024-05-07T19:38:02.537679Z"
    }
   },
   "cell_type": "code",
   "source": [
    "# one entry of match history\n",
    "match_history = 'https://europe.api.riotgames.com/lol/match/v5/matches/' + match_history_ids[0] +'?api_key=' + api_key\n",
    "response_match = requests.get(match_history)\n",
    "response_match"
   ],
   "id": "47a939024932183c",
   "outputs": [
    {
     "data": {
      "text/plain": [
       "<Response [200]>"
      ]
     },
     "execution_count": 11,
     "metadata": {},
     "output_type": "execute_result"
    }
   ],
   "execution_count": 11
  },
  {
   "metadata": {
    "ExecuteTime": {
     "end_time": "2024-05-07T20:27:05.036328Z",
     "start_time": "2024-05-07T20:27:05.030625Z"
    }
   },
   "cell_type": "code",
   "source": [
    "# a lot of info about the match\n",
    "#\n",
    "# puuid of other players in a match ( more data ) \n",
    "# first objectives, number of pings, items and time bought, everything...\n",
    "# win% and frequency to track\n",
    "#\n",
    "\n",
    "list_of_players= []\n",
    "# puuid of all players in a match\n",
    "match_info = response_match.json()\n",
    "for player_puuid in match_info[\"metadata\"][\"participants\"]:\n",
    "    print(\"-----------------\")\n",
    "    list_of_players.append(player_puuid)\n",
    "    print(player_puuid)\n",
    "    print(\"-----------------\")"
   ],
   "id": "d31c85e2314b26c8",
   "outputs": [
    {
     "name": "stdout",
     "output_type": "stream",
     "text": [
      "-----------------\n",
      "rREINHloC8plFt9nMmIsW0aRI7SW-Zjq-7_xHhksnCqz-Hvj65vDGPs0dMZo2QMaiHTPKyeVtclM6Q\n",
      "-----------------\n",
      "-----------------\n",
      "PAU19d4fTro3bwJqXees0s6OUjroK1DwTKWth6Zr7rnS9oaXCfVG2_Ocv2qdD0syKRyvBQwlSHm3OQ\n",
      "-----------------\n",
      "-----------------\n",
      "OCV1NrrGN9nNyAY--YlA0ncMepuRVw_kBkGIC_qvlj2IVxYubqOt8DYISCdhI6Hw9HV7aJeMzAfMDQ\n",
      "-----------------\n",
      "-----------------\n",
      "Miyjztv84TMmcKbnIGe1ga9JCWqDi4EMgki5Q6rpFBeLHRDXct9z3KoVb715aTb4mXEkL1FzZFw82g\n",
      "-----------------\n",
      "-----------------\n",
      "B_yCX5Ifm-8fyd-v_e_RITDZVnYRfAi21VohtQoO9RAWvGJmYwZJiZDX1Ked4jdErfttnkKtGLHd2Q\n",
      "-----------------\n",
      "-----------------\n",
      "s6HqWNDpR_WNuJyiq7wzBHbjtjXyGPkhm0nvXl1ZSegzeaU1fahKYo-RhCNq5DOygUzKxcf8Zjyrgw\n",
      "-----------------\n",
      "-----------------\n",
      "xRCgII39QygZbHrPRdujdQzjrGRr4FaetjSGKf6udGrHaDRxCMR_k6-ulhdOCuewzINK37XfOFQBPw\n",
      "-----------------\n",
      "-----------------\n",
      "tf7xZkjdUErVuPysoDD8WUsEGbycYWJjwsjJm2tXBdS-WvUqmC8stvvhDBtPC5nlCNmkgd2Gr7BJ3Q\n",
      "-----------------\n",
      "-----------------\n",
      "Xdi2X89cTGq3v2_m7_MMlJquNRi8emLHuloLN4vbCd1IAdLUEragjm0z-aMr-zWExTU2azqnaZpw9A\n",
      "-----------------\n",
      "-----------------\n",
      "0lDkHCj8faiMlmHCVJyq2e4aBH92W7jt25b-MFOD83cgql4mK92RbcgxiCz6ROfcfkWdnRDzUKNfQg\n",
      "-----------------\n"
     ]
    }
   ],
   "execution_count": 51
  },
  {
   "metadata": {
    "ExecuteTime": {
     "end_time": "2024-05-07T19:59:55.112485Z",
     "start_time": "2024-05-07T19:59:55.109716Z"
    }
   },
   "cell_type": "code",
   "source": [
    "for i in match_info[\"metadata\"][\"participants\"]:\n",
    "    print(i)"
   ],
   "id": "88ac0e735c3b79d",
   "outputs": [
    {
     "name": "stdout",
     "output_type": "stream",
     "text": [
      "rREINHloC8plFt9nMmIsW0aRI7SW-Zjq-7_xHhksnCqz-Hvj65vDGPs0dMZo2QMaiHTPKyeVtclM6Q\n",
      "PAU19d4fTro3bwJqXees0s6OUjroK1DwTKWth6Zr7rnS9oaXCfVG2_Ocv2qdD0syKRyvBQwlSHm3OQ\n",
      "OCV1NrrGN9nNyAY--YlA0ncMepuRVw_kBkGIC_qvlj2IVxYubqOt8DYISCdhI6Hw9HV7aJeMzAfMDQ\n",
      "Miyjztv84TMmcKbnIGe1ga9JCWqDi4EMgki5Q6rpFBeLHRDXct9z3KoVb715aTb4mXEkL1FzZFw82g\n",
      "B_yCX5Ifm-8fyd-v_e_RITDZVnYRfAi21VohtQoO9RAWvGJmYwZJiZDX1Ked4jdErfttnkKtGLHd2Q\n",
      "s6HqWNDpR_WNuJyiq7wzBHbjtjXyGPkhm0nvXl1ZSegzeaU1fahKYo-RhCNq5DOygUzKxcf8Zjyrgw\n",
      "xRCgII39QygZbHrPRdujdQzjrGRr4FaetjSGKf6udGrHaDRxCMR_k6-ulhdOCuewzINK37XfOFQBPw\n",
      "tf7xZkjdUErVuPysoDD8WUsEGbycYWJjwsjJm2tXBdS-WvUqmC8stvvhDBtPC5nlCNmkgd2Gr7BJ3Q\n",
      "Xdi2X89cTGq3v2_m7_MMlJquNRi8emLHuloLN4vbCd1IAdLUEragjm0z-aMr-zWExTU2azqnaZpw9A\n",
      "0lDkHCj8faiMlmHCVJyq2e4aBH92W7jt25b-MFOD83cgql4mK92RbcgxiCz6ROfcfkWdnRDzUKNfQg\n"
     ]
    }
   ],
   "execution_count": 30
  },
  {
   "metadata": {
    "ExecuteTime": {
     "end_time": "2024-05-07T20:15:11.414049Z",
     "start_time": "2024-05-07T20:15:11.410240Z"
    }
   },
   "cell_type": "code",
   "source": [
    "for participant_info in match_info[\"info\"][\"participants\"]:\n",
    "    print(\"-----------------\")\n",
    "    print(\"Total time spent dead: \",participant_info[\"totalTimeSpentDead\"])\n",
    "    print(\"Vision score: \",participant_info[\"visionScore\"])\n",
    "    print(\"Win: \",participant_info[\"win\"])\n",
    "    print(\"Gold per minute: \",participant_info[\"challenges\"][\"goldPerMinute\"])\n",
    "    print(\"-----------------\")"
   ],
   "id": "7bb456f51836f01a",
   "outputs": [
    {
     "name": "stdout",
     "output_type": "stream",
     "text": [
      "-----------------\n",
      "Total time spent dead:  163\n",
      "Vision score:  27\n",
      "Win:  True\n",
      "Gold per minute:  368.94619916743403\n",
      "-----------------\n",
      "-----------------\n",
      "Total time spent dead:  219\n",
      "Vision score:  39\n",
      "Win:  True\n",
      "Gold per minute:  544.8532266622503\n",
      "-----------------\n",
      "-----------------\n",
      "Total time spent dead:  189\n",
      "Vision score:  40\n",
      "Win:  True\n",
      "Gold per minute:  400.8539999967719\n",
      "-----------------\n",
      "-----------------\n",
      "Total time spent dead:  290\n",
      "Vision score:  14\n",
      "Win:  True\n",
      "Gold per minute:  473.565060021452\n",
      "-----------------\n",
      "-----------------\n",
      "Total time spent dead:  96\n",
      "Vision score:  63\n",
      "Win:  True\n",
      "Gold per minute:  353.2320913476831\n",
      "-----------------\n",
      "-----------------\n",
      "Total time spent dead:  252\n",
      "Vision score:  24\n",
      "Win:  False\n",
      "Gold per minute:  392.7354505790867\n",
      "-----------------\n",
      "-----------------\n",
      "Total time spent dead:  338\n",
      "Vision score:  19\n",
      "Win:  False\n",
      "Gold per minute:  346.06588788097014\n",
      "-----------------\n",
      "-----------------\n",
      "Total time spent dead:  206\n",
      "Vision score:  16\n",
      "Win:  False\n",
      "Gold per minute:  407.1174114722597\n",
      "-----------------\n",
      "-----------------\n",
      "Total time spent dead:  318\n",
      "Vision score:  22\n",
      "Win:  False\n",
      "Gold per minute:  329.59672772914104\n",
      "-----------------\n",
      "-----------------\n",
      "Total time spent dead:  125\n",
      "Vision score:  69\n",
      "Win:  False\n",
      "Gold per minute:  425.99178311201575\n",
      "-----------------\n"
     ]
    }
   ],
   "execution_count": 48
  },
  {
   "metadata": {
    "ExecuteTime": {
     "end_time": "2024-05-07T20:27:08.730844Z",
     "start_time": "2024-05-07T20:27:08.727368Z"
    }
   },
   "cell_type": "code",
   "source": [
    "for i in list_of_players:\n",
    "    print(i)"
   ],
   "id": "8fb1e8ade7504a46",
   "outputs": [
    {
     "name": "stdout",
     "output_type": "stream",
     "text": [
      "rREINHloC8plFt9nMmIsW0aRI7SW-Zjq-7_xHhksnCqz-Hvj65vDGPs0dMZo2QMaiHTPKyeVtclM6Q\n",
      "PAU19d4fTro3bwJqXees0s6OUjroK1DwTKWth6Zr7rnS9oaXCfVG2_Ocv2qdD0syKRyvBQwlSHm3OQ\n",
      "OCV1NrrGN9nNyAY--YlA0ncMepuRVw_kBkGIC_qvlj2IVxYubqOt8DYISCdhI6Hw9HV7aJeMzAfMDQ\n",
      "Miyjztv84TMmcKbnIGe1ga9JCWqDi4EMgki5Q6rpFBeLHRDXct9z3KoVb715aTb4mXEkL1FzZFw82g\n",
      "B_yCX5Ifm-8fyd-v_e_RITDZVnYRfAi21VohtQoO9RAWvGJmYwZJiZDX1Ked4jdErfttnkKtGLHd2Q\n",
      "s6HqWNDpR_WNuJyiq7wzBHbjtjXyGPkhm0nvXl1ZSegzeaU1fahKYo-RhCNq5DOygUzKxcf8Zjyrgw\n",
      "xRCgII39QygZbHrPRdujdQzjrGRr4FaetjSGKf6udGrHaDRxCMR_k6-ulhdOCuewzINK37XfOFQBPw\n",
      "tf7xZkjdUErVuPysoDD8WUsEGbycYWJjwsjJm2tXBdS-WvUqmC8stvvhDBtPC5nlCNmkgd2Gr7BJ3Q\n",
      "Xdi2X89cTGq3v2_m7_MMlJquNRi8emLHuloLN4vbCd1IAdLUEragjm0z-aMr-zWExTU2azqnaZpw9A\n",
      "0lDkHCj8faiMlmHCVJyq2e4aBH92W7jt25b-MFOD83cgql4mK92RbcgxiCz6ROfcfkWdnRDzUKNfQg\n"
     ]
    }
   ],
   "execution_count": 52
  },
  {
   "metadata": {
    "ExecuteTime": {
     "end_time": "2024-05-07T20:33:38.243697Z",
     "start_time": "2024-05-07T20:33:36.601754Z"
    }
   },
   "cell_type": "code",
   "source": [
    "list_of_matches = []\n",
    "for i in list_of_players:\n",
    "    player_matches = 'https://europe.api.riotgames.com/lol/match/v5/matches/by-puuid/'+ i +'/ids?start=0&count=20&api_key=' + api_key\n",
    "    response_player = requests.get(player_matches)\n",
    "    for matchId in response_player.json():\n",
    "        list_of_matches.append(matchId)\n",
    "    print(response_player.json())\n",
    "    "
   ],
   "id": "38a5e617dc33056d",
   "outputs": [
    {
     "name": "stdout",
     "output_type": "stream",
     "text": [
      "['EUN1_3593291983', 'EUN1_3593284126', 'EUN1_3592823728', 'EUN1_3592815905', 'EUN1_3592533862', 'EUN1_3592512271', 'EUN1_3592004994', 'EUN1_3591989044', 'EUN1_3591452333', 'EUN1_3591434098', 'EUN1_3591410541', 'EUN1_3590509022', 'EUN1_3590511125', 'EUN1_3590494348', 'EUN1_3589499590', 'EUN1_3589486854', 'EUN1_3588998849', 'EUN1_3588995252', 'EUN1_3588984317', 'EUN1_3588959887']\n",
      "['EUN1_3593521605', 'EUN1_3593495458', 'EUN1_3593322666', 'EUN1_3593314533', 'EUN1_3593302256', 'EUN1_3593191246', 'EUN1_3593181764', 'EUN1_3593169885', 'EUN1_3593167087', 'EUN1_3593116645', 'EUN1_3593096387', 'EUN1_3593060053', 'EUN1_3592878210', 'EUN1_3592860193', 'EUN1_3592844402', 'EUN1_3592724096', 'EUN1_3592712108', 'EUN1_3592686768', 'EUN1_3592662253', 'EUN1_3592639257']\n",
      "['EUN1_3592716976', 'EUN1_3592711282', 'EUN1_3592695053', 'EUN1_3592693402', 'EUN1_3592670863', 'EUN1_3592662514', 'EUN1_3592212634', 'EUN1_3592205569', 'EUN1_3592192806', 'EUN1_3592189478', 'EUN1_3592094894', 'EUN1_3592066655', 'EUN1_3591941581', 'EUN1_3591920569', 'EUN1_3591902616', 'EUN1_3591878695', 'EUN1_3591864749', 'EUN1_3591852977', 'EUN1_3591834019', 'EUN1_3591713606']\n",
      "['EUN1_3592878210', 'EUN1_3592860193', 'EUN1_3592844402', 'EUN1_3590509022', 'EUN1_3590511125', 'EUN1_3590482684', 'EUN1_3590268641', 'EUN1_3590253154', 'EUN1_3590040222', 'EUN1_3590005995', 'EUN1_3589990978', 'EUN1_3589765479', 'EUN1_3589739833', 'EUN1_3589521923', 'EUN1_3589499590', 'EUN1_3589484693', 'EUN1_3589337914', 'EUN1_3589332722', 'EUN1_3589327349', 'EUN1_3589309810']\n",
      "['EUN1_3593322666', 'EUN1_3593314533', 'EUN1_3593302256', 'EUN1_3593229917', 'EUN1_3593233295', 'EUN1_3593220595', 'EUN1_3593191246', 'EUN1_3593181764', 'EUN1_3593169885', 'EUN1_3593167087', 'EUN1_3593116645', 'EUN1_3593096387', 'EUN1_3593060053', 'EUN1_3592878210', 'EUN1_3592860193', 'EUN1_3592844402', 'EUN1_3592797284', 'EUN1_3592788177', 'EUN1_3592724096', 'EUN1_3592712108']\n",
      "['EUN1_3587696734', 'EUN1_3587682926', 'EUN1_3586754246', 'EUN1_3586743299', 'EUN1_3586733117', 'EUN1_3586269509', 'EUN1_3586268313', 'EUN1_3586258441', 'EUN1_3584627540', 'EUN1_3578646296', 'EUN1_3572915140', 'EUN1_3572909224', 'EUN1_3572892235', 'EUN1_3572863927', 'EUN1_3571776110', 'EUN1_3571742763', 'EUN1_3571714481', 'EUN1_3571693409', 'EUN1_3571652438', 'EUN1_3569913613']\n",
      "['EUN1_3587696734', 'EUN1_3587682926', 'EUN1_3586601389', 'EUN1_3585767984', 'EUN1_3584155516', 'EUN1_3584145010', 'EUN1_3579824105', 'EUN1_3579806648', 'EUN1_3579587833', 'EUN1_3579580112', 'EUN1_3577940297', 'EUN1_3577924345', 'EUN1_3577538395', 'EUN1_3576370031', 'EUN1_3568196207', 'EUN1_3567917754', 'EUN1_3567828116', 'EUN1_3565975068', 'EUN1_3565966949', 'EUN1_3565962505']\n",
      "['EUN1_3587696734', 'EUN1_3587682926', 'EUN1_3579535069', 'EUN1_3572915140', 'EUN1_3572909224', 'EUN1_3572892235', 'EUN1_3572863927', 'EUN1_3572842184', 'EUN1_3572785974', 'EUN1_3572760046', 'EUN1_3572011834', 'EUN1_3560450881', 'EUN1_3462933873', 'EUN1_3427258943', 'EUN1_3412900853', 'EUN1_3406656211', 'EUN1_3395264358', 'EUN1_3395213808', 'EUN1_3394004539', 'EUN1_3394001447']\n",
      "['EUN1_3590148405', 'EUN1_3587696734', 'EUN1_3587682926', 'EUN1_3586754246', 'EUN1_3586743299', 'EUN1_3586733117', 'EUN1_3586269509', 'EUN1_3586268313', 'EUN1_3586258441', 'EUN1_3584085385', 'EUN1_3580133262', 'EUN1_3580112458', 'EUN1_3580017439', 'EUN1_3579824105', 'EUN1_3579806648', 'EUN1_3578986614', 'EUN1_3572915140', 'EUN1_3572909224', 'EUN1_3572892235', 'EUN1_3572863927']\n",
      "['EUN1_3587696734', 'EUN1_3587682926', 'EUN1_3583677303', 'EUN1_3582186534', 'EUN1_3581349446', 'EUN1_3581325053', 'EUN1_3578646296', 'EUN1_3577601970', 'EUN1_3577589092', 'EUN1_3577568413', 'EUN1_3577542718', 'EUN1_3569913613', 'EUN1_3569899833', 'EUN1_3569891369', 'EUN1_3567324980', 'EUN1_3567309761', 'EUN1_3561626216', 'EUN1_3561613607', 'EUN1_3561594963', 'EUN1_3561583637']\n"
     ]
    }
   ],
   "execution_count": 62
  },
  {
   "metadata": {
    "ExecuteTime": {
     "end_time": "2024-05-07T20:38:09.018772Z",
     "start_time": "2024-05-07T20:38:09.014688Z"
    }
   },
   "cell_type": "code",
   "source": [
    "for match_id in list_of_matches:\n",
    "    print(match_id)\n",
    "print(len(list_of_matches))"
   ],
   "id": "c0ccbf43310e0fc1",
   "outputs": [
    {
     "name": "stdout",
     "output_type": "stream",
     "text": [
      "EUN1_3593291983\n",
      "EUN1_3593284126\n",
      "EUN1_3592823728\n",
      "EUN1_3592815905\n",
      "EUN1_3592533862\n",
      "EUN1_3592512271\n",
      "EUN1_3592004994\n",
      "EUN1_3591989044\n",
      "EUN1_3591452333\n",
      "EUN1_3591434098\n",
      "EUN1_3591410541\n",
      "EUN1_3590509022\n",
      "EUN1_3590511125\n",
      "EUN1_3590494348\n",
      "EUN1_3589499590\n",
      "EUN1_3589486854\n",
      "EUN1_3588998849\n",
      "EUN1_3588995252\n",
      "EUN1_3588984317\n",
      "EUN1_3588959887\n",
      "EUN1_3593521605\n",
      "EUN1_3593495458\n",
      "EUN1_3593322666\n",
      "EUN1_3593314533\n",
      "EUN1_3593302256\n",
      "EUN1_3593191246\n",
      "EUN1_3593181764\n",
      "EUN1_3593169885\n",
      "EUN1_3593167087\n",
      "EUN1_3593116645\n",
      "EUN1_3593096387\n",
      "EUN1_3593060053\n",
      "EUN1_3592878210\n",
      "EUN1_3592860193\n",
      "EUN1_3592844402\n",
      "EUN1_3592724096\n",
      "EUN1_3592712108\n",
      "EUN1_3592686768\n",
      "EUN1_3592662253\n",
      "EUN1_3592639257\n",
      "EUN1_3592716976\n",
      "EUN1_3592711282\n",
      "EUN1_3592695053\n",
      "EUN1_3592693402\n",
      "EUN1_3592670863\n",
      "EUN1_3592662514\n",
      "EUN1_3592212634\n",
      "EUN1_3592205569\n",
      "EUN1_3592192806\n",
      "EUN1_3592189478\n",
      "EUN1_3592094894\n",
      "EUN1_3592066655\n",
      "EUN1_3591941581\n",
      "EUN1_3591920569\n",
      "EUN1_3591902616\n",
      "EUN1_3591878695\n",
      "EUN1_3591864749\n",
      "EUN1_3591852977\n",
      "EUN1_3591834019\n",
      "EUN1_3591713606\n",
      "EUN1_3592878210\n",
      "EUN1_3592860193\n",
      "EUN1_3592844402\n",
      "EUN1_3590509022\n",
      "EUN1_3590511125\n",
      "EUN1_3590482684\n",
      "EUN1_3590268641\n",
      "EUN1_3590253154\n",
      "EUN1_3590040222\n",
      "EUN1_3590005995\n",
      "EUN1_3589990978\n",
      "EUN1_3589765479\n",
      "EUN1_3589739833\n",
      "EUN1_3589521923\n",
      "EUN1_3589499590\n",
      "EUN1_3589484693\n",
      "EUN1_3589337914\n",
      "EUN1_3589332722\n",
      "EUN1_3589327349\n",
      "EUN1_3589309810\n",
      "EUN1_3593322666\n",
      "EUN1_3593314533\n",
      "EUN1_3593302256\n",
      "EUN1_3593229917\n",
      "EUN1_3593233295\n",
      "EUN1_3593220595\n",
      "EUN1_3593191246\n",
      "EUN1_3593181764\n",
      "EUN1_3593169885\n",
      "EUN1_3593167087\n",
      "EUN1_3593116645\n",
      "EUN1_3593096387\n",
      "EUN1_3593060053\n",
      "EUN1_3592878210\n",
      "EUN1_3592860193\n",
      "EUN1_3592844402\n",
      "EUN1_3592797284\n",
      "EUN1_3592788177\n",
      "EUN1_3592724096\n",
      "EUN1_3592712108\n",
      "EUN1_3587696734\n",
      "EUN1_3587682926\n",
      "EUN1_3586754246\n",
      "EUN1_3586743299\n",
      "EUN1_3586733117\n",
      "EUN1_3586269509\n",
      "EUN1_3586268313\n",
      "EUN1_3586258441\n",
      "EUN1_3584627540\n",
      "EUN1_3578646296\n",
      "EUN1_3572915140\n",
      "EUN1_3572909224\n",
      "EUN1_3572892235\n",
      "EUN1_3572863927\n",
      "EUN1_3571776110\n",
      "EUN1_3571742763\n",
      "EUN1_3571714481\n",
      "EUN1_3571693409\n",
      "EUN1_3571652438\n",
      "EUN1_3569913613\n",
      "EUN1_3587696734\n",
      "EUN1_3587682926\n",
      "EUN1_3586601389\n",
      "EUN1_3585767984\n",
      "EUN1_3584155516\n",
      "EUN1_3584145010\n",
      "EUN1_3579824105\n",
      "EUN1_3579806648\n",
      "EUN1_3579587833\n",
      "EUN1_3579580112\n",
      "EUN1_3577940297\n",
      "EUN1_3577924345\n",
      "EUN1_3577538395\n",
      "EUN1_3576370031\n",
      "EUN1_3568196207\n",
      "EUN1_3567917754\n",
      "EUN1_3567828116\n",
      "EUN1_3565975068\n",
      "EUN1_3565966949\n",
      "EUN1_3565962505\n",
      "EUN1_3587696734\n",
      "EUN1_3587682926\n",
      "EUN1_3579535069\n",
      "EUN1_3572915140\n",
      "EUN1_3572909224\n",
      "EUN1_3572892235\n",
      "EUN1_3572863927\n",
      "EUN1_3572842184\n",
      "EUN1_3572785974\n",
      "EUN1_3572760046\n",
      "EUN1_3572011834\n",
      "EUN1_3560450881\n",
      "EUN1_3462933873\n",
      "EUN1_3427258943\n",
      "EUN1_3412900853\n",
      "EUN1_3406656211\n",
      "EUN1_3395264358\n",
      "EUN1_3395213808\n",
      "EUN1_3394004539\n",
      "EUN1_3394001447\n",
      "EUN1_3590148405\n",
      "EUN1_3587696734\n",
      "EUN1_3587682926\n",
      "EUN1_3586754246\n",
      "EUN1_3586743299\n",
      "EUN1_3586733117\n",
      "EUN1_3586269509\n",
      "EUN1_3586268313\n",
      "EUN1_3586258441\n",
      "EUN1_3584085385\n",
      "EUN1_3580133262\n",
      "EUN1_3580112458\n",
      "EUN1_3580017439\n",
      "EUN1_3579824105\n",
      "EUN1_3579806648\n",
      "EUN1_3578986614\n",
      "EUN1_3572915140\n",
      "EUN1_3572909224\n",
      "EUN1_3572892235\n",
      "EUN1_3572863927\n",
      "EUN1_3587696734\n",
      "EUN1_3587682926\n",
      "EUN1_3583677303\n",
      "EUN1_3582186534\n",
      "EUN1_3581349446\n",
      "EUN1_3581325053\n",
      "EUN1_3578646296\n",
      "EUN1_3577601970\n",
      "EUN1_3577589092\n",
      "EUN1_3577568413\n",
      "EUN1_3577542718\n",
      "EUN1_3569913613\n",
      "EUN1_3569899833\n",
      "EUN1_3569891369\n",
      "EUN1_3567324980\n",
      "EUN1_3567309761\n",
      "EUN1_3561626216\n",
      "EUN1_3561613607\n",
      "EUN1_3561594963\n",
      "EUN1_3561583637\n",
      "200\n"
     ]
    }
   ],
   "execution_count": 68
  },
  {
   "metadata": {
    "ExecuteTime": {
     "end_time": "2024-05-07T20:42:15.386859Z",
     "start_time": "2024-05-07T20:42:13.401407Z"
    }
   },
   "cell_type": "code",
   "source": [
    "match_info_list = []\n",
    "for match_id in list_of_matches[:9]:\n",
    "    match_info = 'https://europe.api.riotgames.com/lol/match/v5/matches/' + match_id +'?api_key=' + api_key\n",
    "    response_match = requests.get(match_info)\n",
    "    for match_id in response_match.json():\n",
    "        match_info_list.append(match_id)\n",
    "\n",
    "match_info_list"
   ],
   "id": "7d4c8c3dd5446098",
   "outputs": [
    {
     "data": {
      "text/plain": [
       "['metadata',\n",
       " 'info',\n",
       " 'metadata',\n",
       " 'info',\n",
       " 'metadata',\n",
       " 'info',\n",
       " 'metadata',\n",
       " 'info',\n",
       " 'metadata',\n",
       " 'info',\n",
       " 'metadata',\n",
       " 'info',\n",
       " 'metadata',\n",
       " 'info',\n",
       " 'metadata',\n",
       " 'info',\n",
       " 'metadata',\n",
       " 'info']"
      ]
     },
     "execution_count": 70,
     "metadata": {},
     "output_type": "execute_result"
    }
   ],
   "execution_count": 70
  },
  {
   "metadata": {},
   "cell_type": "code",
   "outputs": [],
   "execution_count": null,
   "source": "",
   "id": "d5011c8ea00c9085"
  }
 ],
 "metadata": {
  "kernelspec": {
   "display_name": "Python 3",
   "language": "python",
   "name": "python3"
  },
  "language_info": {
   "codemirror_mode": {
    "name": "ipython",
    "version": 2
   },
   "file_extension": ".py",
   "mimetype": "text/x-python",
   "name": "python",
   "nbconvert_exporter": "python",
   "pygments_lexer": "ipython2",
   "version": "2.7.6"
  }
 },
 "nbformat": 4,
 "nbformat_minor": 5
}
